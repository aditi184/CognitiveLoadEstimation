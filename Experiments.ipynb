{
  "nbformat": 4,
  "nbformat_minor": 0,
  "metadata": {
    "colab": {
      "name": "Neuroscience.ipynb",
      "provenance": [],
      "collapsed_sections": []
    },
    "kernelspec": {
      "name": "python3",
      "display_name": "Python 3"
    },
    "language_info": {
      "name": "python"
    }
  },
  "cells": [
    {
      "cell_type": "code",
      "metadata": {
        "id": "H5Oq9gOLmL_G"
      },
      "source": [
        "!unzip -q train.zip"
      ],
      "execution_count": null,
      "outputs": []
    },
    {
      "cell_type": "code",
      "metadata": {
        "id": "voVfXjMPmT90"
      },
      "source": [
        "import numpy as np\n",
        "import pandas as pd\n",
        "import numpy as np \n",
        "from sklearn.metrics import auc\n",
        "from sklearn.metrics import plot_roc_curve, roc_curve, roc_auc_score, accuracy_score\n",
        "from sklearn.model_selection import StratifiedKFold\n",
        "import numpy as np \n",
        "import lightgbm as lg\n",
        "from sklearn.neural_network import MLPClassifier\n",
        "from sklearn.model_selection import train_test_split\n",
        "import matplotlib.pyplot as plt\n",
        "from sklearn.metrics import roc_curve\n",
        "plt.style.use('seaborn')\n",
        "from sklearn.neighbors import KNeighborsClassifier\n",
        "from sklearn.naive_bayes import GaussianNB\n",
        "from sklearn.pipeline import make_pipeline\n",
        "from sklearn.preprocessing import StandardScaler\n",
        "from sklearn.svm import SVC"
      ],
      "execution_count": null,
      "outputs": []
    },
    {
      "cell_type": "code",
      "metadata": {
        "id": "CcCpq6M2nFDU"
      },
      "source": [
        "data_path = '/content/'\n",
        "labels = pd.read_csv(data_path+'labels_train.csv', header=None)\n",
        "gsr_train = pd.read_csv(data_path+'gsr_train.csv', header=None)\n",
        "rr_train = pd.read_csv(data_path+'rr_train.csv', header=None)\n",
        "temp_train = pd.read_csv(data_path+'temp_train.csv', header=None)\n",
        "hr_train = pd.read_csv(data_path+'hr_train.csv', header=None)\n"
      ],
      "execution_count": null,
      "outputs": []
    },
    {
      "cell_type": "code",
      "metadata": {
        "id": "XWs7zbUioq_q"
      },
      "source": [
        "df = pd.concat([rr_train, hr_train, temp_train, gsr_train], axis=0, sort=False)"
      ],
      "execution_count": null,
      "outputs": []
    },
    {
      "cell_type": "code",
      "metadata": {
        "id": "xq0hw4pzwTj0"
      },
      "source": [
        "data_orig = pd.concat([rr_train, hr_train, temp_train, gsr_train], axis=1, sort=False)"
      ],
      "execution_count": null,
      "outputs": []
    },
    {
      "cell_type": "code",
      "metadata": {
        "id": "F-rr7UMGsXrq"
      },
      "source": [
        "def fe(df,num):\n",
        "    '''\n",
        "    feature engineering step\n",
        "    '''\n",
        "    df.columns = [str(num)+'_'+str(i) for i in range(30)]\n",
        "    df[f'x_{num}_min'] = df.min(1)\n",
        "    df[f'x_{num}_max'] = df.max(1)\n",
        "    df[f'x_{num}_med'] = df.median(1)\n",
        "    df[f'x_{num}_std'] = df.std(1)\n",
        "    df[f'x_{num}_sum'] = df.sum(1)\n",
        "    df[f'x_{num}_ske'] = df.skew(1)\n",
        "    df[f'x_{num}_mea'] = df.mean(1)\n",
        "\n",
        "    \n",
        "for nnn, i_df in enumerate([gsr_train, rr_train, temp_train, hr_train]):#temp_train\n",
        "    i_df = fe(i_df, nnn)"
      ],
      "execution_count": null,
      "outputs": []
    },
    {
      "cell_type": "code",
      "metadata": {
        "id": "-jdhAi4CzKh2"
      },
      "source": [
        "data_fe = pd.concat([rr_train, gsr_train, temp_train, hr_train], axis=1, sort=False)\n",
        "data_fe_only = data_fe[[i for i in data_fe.columns if 'x'==str(i)[:1]]]\n",
        "data_norm = (data_fe_only - data_fe_only.mean())/data_fe_only.std()"
      ],
      "execution_count": null,
      "outputs": []
    },
    {
      "cell_type": "code",
      "metadata": {
        "id": "7FHqnWxk2Jsp"
      },
      "source": [
        "class EnsembleModel():\n",
        "    def __init__(self, n_models=6, num_boost_round=20):\n",
        "        self.lg_models = {}\n",
        "        self.n_models = n_models\n",
        "        self.num_boost_round = num_boost_round\n",
        "    def fit(self, X, y):\n",
        "        params = {}\n",
        "        \n",
        "        params[0] = {'num_leaves': 216,\n",
        "                     'max_bin': 398,\n",
        "                     'colsample_bytree': '0.730',\n",
        "                     'learning_rate': '0.270',\n",
        "                     'lambda_l2': 55,\n",
        "                     'objective': 'binary'}\n",
        "        params[1] = {'num_leaves': 176,\n",
        "                     'max_bin': 413,\n",
        "                     'colsample_bytree': '0.730',\n",
        "                     'learning_rate': '0.280',\n",
        "                     'lambda_l2': 56,\n",
        "                     'objective': 'binary'}\n",
        "        params[2] = {'num_leaves': 362,\n",
        "                     'max_bin': 438,\n",
        "                     'colsample_bytree': '0.550',\n",
        "                     'learning_rate': '0.220',\n",
        "                     'lambda_l2': 69,\n",
        "                     'objective': 'binary'}\n",
        "        params[3] = {'num_leaves': 544,\n",
        "                     'max_bin': 22,\n",
        "                     'colsample_bytree': '0.320',\n",
        "                     'learning_rate': '0.220', 'lambda_l2': 76, 'objective': 'binary'}\n",
        "        params[4] = {'num_leaves': 366,\n",
        "                     'max_bin': 218,\n",
        "                     'colsample_bytree': '0.400',\n",
        "                     'learning_rate': '0.180', 'lambda_l2': 86, 'objective': 'binary'}\n",
        "        \n",
        "        params[5] = {'num_leaves': 123, 'max_bin': 442,\n",
        "                     'colsample_bytree': '0.410', 'learning_rate': '0.500',\n",
        "                     'lambda_l2': 87, 'objective': 'binary'}\n",
        "        \n",
        "        params[6] = {'num_leaves': 246, 'max_bin': 316,\n",
        "                     'colsample_bytree': '0.670', 'learning_rate': '0.450',\n",
        "                     'lambda_l2': 138, 'objective': 'binary'}\n",
        "\n",
        "\n",
        "\n",
        "        #y_hat_lg = np.zeros((X_test.shape[0],self.n_models))\n",
        "        train_data = lg.Dataset(X, y)\n",
        "        for i in range(self.n_models):\n",
        "            self.lg_models[i] = lg.train(params[i], train_data, num_boost_round=self.num_boost_round)\n",
        "\n",
        "    def predict_proba(self, X):\n",
        "        #print(X.shape)\n",
        "        y_hat_xgb_test = np.zeros((X.shape[0],self.n_models+1))\n",
        "        for num in range(self.n_models+1):\n",
        "            if num < self.n_models:\n",
        "                y_hat_xgb_test[:,num] = self.lg_models[num].predict(X).reshape(-1)\n",
        "\n",
        "        return np.mean(y_hat_xgb_test,1)"
      ],
      "execution_count": null,
      "outputs": []
    },
    {
      "cell_type": "code",
      "metadata": {
        "id": "y7To9h26DBZG"
      },
      "source": [
        "def get_scores(model, X, y, lg=False):\n",
        "    X = np.array(X)\n",
        "    y = np.array(y)\n",
        "    \n",
        "    cv = StratifiedKFold(5, random_state=45, shuffle=True)\n",
        "    spl = cv.split(X, y)\n",
        "    \n",
        "    results_acc = []\n",
        "    results_auc = []\n",
        "    for train_index, test_index in spl:\n",
        "        #print(\"TRAIN:\", train_index, \"TEST:\", test_index)\n",
        "        X_train, X_test = X[train_index], X[test_index]\n",
        "        y_train, y_test = y[train_index], y[test_index]\n",
        "        model.fit(X_train, y_train)\n",
        "        \n",
        "        if not lg: \n",
        "            y_hat = model.predict_proba(X_test)[:,1]\n",
        "        else:\n",
        "            y_hat = model.predict_proba(X_test)\n",
        "            \n",
        "        results_auc.append(roc_auc_score(y_test, y_hat))\n",
        "        results_acc.append(accuracy_score(y_test, np.round(y_hat)))\n",
        "    #########################################################\n",
        "    cv = StratifiedKFold(4, random_state=1990, shuffle=True)\n",
        "    spl = cv.split(X, y)\n",
        "    for train_index, test_index in spl:\n",
        "        #print(\"TRAIN:\", train_index, \"TEST:\", test_index)\n",
        "        X_train, X_test = X[train_index], X[test_index]\n",
        "        y_train, y_test = y[train_index], y[test_index]\n",
        "        model.fit(X_train, y_train)\n",
        "        if not lg: \n",
        "            y_hat = model.predict_proba(X_test)[:,1]\n",
        "        else:\n",
        "            y_hat = model.predict_proba(X_test)\n",
        "\n",
        "        results_auc.append(roc_auc_score(y_test, y_hat))\n",
        "        results_acc.append(accuracy_score(y_test, np.round(y_hat)))\n",
        "    print('ACC:', np.mean(results_acc), np.std(results_acc))\n",
        "    print('AUC:', np.mean(results_auc), np.std(results_auc))\n",
        "    print('\\n')\n",
        "    return np.mean(results_acc), np.std(results_acc), np.mean(results_auc), np.std(results_auc)\n",
        "\n",
        "\n",
        "def tr_(x):\n",
        "    x[x>0.5] = 1\n",
        "    x[x<0.51] = 0\n",
        "    return x"
      ],
      "execution_count": null,
      "outputs": []
    },
    {
      "cell_type": "code",
      "metadata": {
        "colab": {
          "base_uri": "https://localhost:8080/"
        },
        "id": "EKL3mfjfSUvY",
        "outputId": "e6255f97-5d4c-48a8-839d-8352a6791dc9"
      },
      "source": [
        "model = EnsembleModel(n_models=7, num_boost_round=55)\n",
        "get_scores(model, data_norm.values, labels[0].values, lg=True)"
      ],
      "execution_count": null,
      "outputs": [
        {
          "output_type": "stream",
          "name": "stdout",
          "text": [
            "ACC: 0.6251808186423955 0.04141525744843811\n",
            "AUC: 0.6847766215039268 0.03890341258197547\n",
            "\n",
            "\n"
          ]
        },
        {
          "output_type": "execute_result",
          "data": {
            "text/plain": [
              "(0.6251808186423955,\n",
              " 0.04141525744843811,\n",
              " 0.6847766215039268,\n",
              " 0.03890341258197547)"
            ]
          },
          "metadata": {},
          "execution_count": 32
        }
      ]
    },
    {
      "cell_type": "code",
      "metadata": {
        "colab": {
          "base_uri": "https://localhost:8080/"
        },
        "id": "oJzPUeu-rXUX",
        "outputId": "71f36b2e-2c76-452e-e910-fc21f34da269"
      },
      "source": [
        "X_train, X_test, y_train, y_test = train_test_split(data_norm.values, labels[0].values, stratify=labels[0].values,random_state=42,test_size = 0.2)\n",
        "clf = MLPClassifier(random_state=42, max_iter = 300, hidden_layer_sizes = 2, learning_rate = 'adaptive', alpha= 0.001).fit(X_train, y_train)\n",
        "print(clf.score(X_test, y_test))\n",
        "print(roc_auc_score(y_test, clf.predict_proba(X_test)[:, 1]))\n",
        "from sklearn.metrics import classification_report\n",
        "print(classification_report(y_test, clf.predict(X_test)))"
      ],
      "execution_count": null,
      "outputs": [
        {
          "output_type": "stream",
          "name": "stdout",
          "text": [
            "0.6771653543307087\n",
            "0.6581101190476191\n",
            "              precision    recall  f1-score   support\n",
            "\n",
            "           0       0.67      0.70      0.68        63\n",
            "           1       0.69      0.66      0.67        64\n",
            "\n",
            "    accuracy                           0.68       127\n",
            "   macro avg       0.68      0.68      0.68       127\n",
            "weighted avg       0.68      0.68      0.68       127\n",
            "\n"
          ]
        },
        {
          "output_type": "stream",
          "name": "stderr",
          "text": [
            "/usr/local/lib/python3.7/dist-packages/sklearn/neural_network/_multilayer_perceptron.py:696: ConvergenceWarning: Stochastic Optimizer: Maximum iterations (300) reached and the optimization hasn't converged yet.\n",
            "  ConvergenceWarning,\n"
          ]
        }
      ]
    },
    {
      "cell_type": "code",
      "metadata": {
        "colab": {
          "base_uri": "https://localhost:8080/"
        },
        "id": "sn0g5_VavKnq",
        "outputId": "382e2947-84d8-4245-ecf4-499d24ddacde"
      },
      "source": [
        "\n",
        "neigh = KNeighborsClassifier(n_neighbors=3)\n",
        "neigh.fit(X_train, y_train)\n",
        "print(neigh.score(X_test, y_test))\n",
        "print(roc_auc_score(y_test, neigh.predict_proba(X_test)[:, 1]))\n",
        "from sklearn.metrics import classification_report\n",
        "print(classification_report(y_test, neigh.predict(X_test)))"
      ],
      "execution_count": null,
      "outputs": [
        {
          "output_type": "stream",
          "name": "stdout",
          "text": [
            "0.5826771653543307\n",
            "0.6333085317460319\n",
            "              precision    recall  f1-score   support\n",
            "\n",
            "           0       0.58      0.60      0.59        63\n",
            "           1       0.59      0.56      0.58        64\n",
            "\n",
            "    accuracy                           0.58       127\n",
            "   macro avg       0.58      0.58      0.58       127\n",
            "weighted avg       0.58      0.58      0.58       127\n",
            "\n"
          ]
        }
      ]
    },
    {
      "cell_type": "code",
      "metadata": {
        "colab": {
          "base_uri": "https://localhost:8080/"
        },
        "id": "fGZWOonZvqzA",
        "outputId": "11dd0f5e-4c92-4878-d2e3-d38902534a1a"
      },
      "source": [
        "\n",
        "svc = make_pipeline(StandardScaler(), SVC(gamma='auto',probability=True))\n",
        "svc.fit(X_train, y_train)\n",
        "print(svc.score(X_test, y_test))\n",
        "print(roc_auc_score(y_test, svc.predict(X_test)))\n",
        "from sklearn.metrics import classification_report\n",
        "print(classification_report(y_test, svc.predict(X_test)))"
      ],
      "execution_count": null,
      "outputs": [
        {
          "output_type": "stream",
          "name": "stdout",
          "text": [
            "0.6456692913385826\n",
            "0.6457093253968254\n",
            "              precision    recall  f1-score   support\n",
            "\n",
            "           0       0.64      0.65      0.65        63\n",
            "           1       0.65      0.64      0.65        64\n",
            "\n",
            "    accuracy                           0.65       127\n",
            "   macro avg       0.65      0.65      0.65       127\n",
            "weighted avg       0.65      0.65      0.65       127\n",
            "\n"
          ]
        }
      ]
    },
    {
      "cell_type": "code",
      "metadata": {
        "colab": {
          "base_uri": "https://localhost:8080/"
        },
        "id": "nCBuKfoYyM5v",
        "outputId": "3523b0eb-f371-43f2-ad8c-4c37c696358e"
      },
      "source": [
        "\n",
        "gnb = GaussianNB()\n",
        "gnb.fit(X_train, y_train)\n",
        "print(gnb.score(X_test, y_test))\n",
        "print(roc_auc_score(y_test, gnb.predict_proba(X_test)[:, 1]))\n",
        "from sklearn.metrics import classification_report\n",
        "print(classification_report(y_test, gnb.predict(X_test)))"
      ],
      "execution_count": null,
      "outputs": [
        {
          "output_type": "stream",
          "name": "stdout",
          "text": [
            "0.6377952755905512\n",
            "0.7291666666666666\n",
            "              precision    recall  f1-score   support\n",
            "\n",
            "           0       0.59      0.89      0.71        63\n",
            "           1       0.78      0.39      0.52        64\n",
            "\n",
            "    accuracy                           0.64       127\n",
            "   macro avg       0.69      0.64      0.61       127\n",
            "weighted avg       0.69      0.64      0.61       127\n",
            "\n"
          ]
        }
      ]
    },
    {
      "cell_type": "code",
      "metadata": {
        "id": "Rwg4ZEe-iPnv",
        "colab": {
          "base_uri": "https://localhost:8080/",
          "height": 376
        },
        "outputId": "fc28e358-5f7b-4aef-daa2-af12aab2c0f1"
      },
      "source": [
        "\n",
        "\n",
        "nn = clf.predict_proba(X_test)\n",
        "nb = gnb.predict_proba(X_test)\n",
        "svm = svc.predict_proba(X_test)\n",
        "knn = neigh.predict_proba(X_test)\n",
        "\n",
        "fpr1, tpr1, thresh1 = roc_curve(y_test, nn[:,1], pos_label=1)\n",
        "fpr2, tpr2, thresh2 = roc_curve(y_test, nb[:,1], pos_label=1)\n",
        "fpr3, tpr3, thresh3 = roc_curve(y_test, svm[:,1], pos_label=1)\n",
        "fpr4, tpr4, thresh4 = roc_curve(y_test, knn[:,1], pos_label=1)\n",
        "\n",
        "random_probs = [0 for i in range(len(y_test))]\n",
        "p_fpr, p_tpr, _ = roc_curve(y_test, random_probs, pos_label=1)\n",
        "\n",
        "\n",
        "# plot roc curves\n",
        "plt.plot(fpr1, tpr1, linestyle='--',color='orange', label='Gaussian Naive Bayes')\n",
        "plt.plot(fpr2, tpr2, linestyle='--',color='green', label='Neural Network')\n",
        "plt.plot(fpr3, tpr3, linestyle='--',color='red', label='Support Vector Classifier')\n",
        "plt.plot(fpr4, tpr4, linestyle='--',color='yellow', label='KNN Classifier')\n",
        "plt.plot(p_fpr, p_tpr, linestyle='--', color='blue')\n",
        "# title\n",
        "plt.title('ROC curve')\n",
        "# x label\n",
        "plt.xlabel('False Positive Rate')\n",
        "# y label\n",
        "plt.ylabel('True Positive rate')\n",
        "\n",
        "plt.legend(loc='best')\n",
        "plt.savefig('ROC')\n",
        "plt.show();"
      ],
      "execution_count": null,
      "outputs": [
        {
          "output_type": "display_data",
          "data": {
            "image/png": "[encoded data removed]",
            "text/plain": [
              "<Figure size 576x396 with 1 Axes>"
            ]
          },
          "metadata": {}
        }
      ]
    }
  ]
}